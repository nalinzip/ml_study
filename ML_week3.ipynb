{
  "nbformat": 4,
  "nbformat_minor": 0,
  "metadata": {
    "colab": {
      "provenance": [],
      "authorship_tag": "ABX9TyMvRXPTjtajVz5EcE5x2cA+",
      "include_colab_link": true
    },
    "kernelspec": {
      "name": "python3",
      "display_name": "Python 3"
    },
    "language_info": {
      "name": "python"
    }
  },
  "cells": [
    {
      "cell_type": "markdown",
      "metadata": {
        "id": "view-in-github",
        "colab_type": "text"
      },
      "source": [
        "<a href=\"https://colab.research.google.com/github/nalinzip/ml_study/blob/main/ML_week3.ipynb\" target=\"_parent\"><img src=\"https://colab.research.google.com/assets/colab-badge.svg\" alt=\"Open In Colab\"/></a>"
      ]
    },
    {
      "cell_type": "code",
      "execution_count": 47,
      "metadata": {
        "id": "W-DiHNFf__KX"
      },
      "outputs": [],
      "source": [
        "from sklearn.base import BaseEstimator\n",
        "import numpy as np\n",
        "class MyDummyClassifier(BaseEstimator):\n",
        "    # fit( ) 메서드는 아무것도 학습하지 않음.\n",
        "    def fit(self, X, y=None):\n",
        "        pass\n",
        "    # predict() 메서드는 단순히 Sex 피처가 1 이면 0, 그렇지 않으면 1 로 예측함.\n",
        "    def predict(self, X):\n",
        "        pred = np.zeros(( X.shape[0], 1))\n",
        "        for i in range (X. shape [0]) :\n",
        "            if X['Sex'].iloc[i] == 1:  # iloc should use the current loop index i\n",
        "                pred[i] = 0\n",
        "            else:\n",
        "                pred[i] = 1\n",
        "        return pred"
      ]
    },
    {
      "cell_type": "markdown",
      "source": [
        "### Transform features 추가로 정의"
      ],
      "metadata": {
        "id": "QMy1cdSqYjex"
      }
    },
    {
      "cell_type": "code",
      "source": [
        "# Feature transformation function\n",
        "# def transform_features(X):\n",
        "#     X = X.fillna(X.mean(numeric_only=True))\n",
        "#     X['Sex'] = X['Sex'].map({'male': 1, 'female': 0})  # convert to numeric\n",
        "#     return X\n",
        "# def transform_features(df):\n",
        "#     df = df.drop(['PassengerId', 'Name', 'Ticket', 'Cabin'], axis=1)\n",
        "\n",
        "#     # Avoid chained assignment warnings\n",
        "#     df['Age'] = df['Age'].fillna(df['Age'].mean())\n",
        "#     df['Embarked'] = df['Embarked'].fillna('S')\n",
        "\n",
        "#     df['Sex'] = df['Sex'].map({'male': 1, 'female': 0})\n",
        "#     df = pd.get_dummies(df, columns=['Embarked'], drop_first=True)\n",
        "\n",
        "#     return df\n"
      ],
      "metadata": {
        "id": "6tM9Nm7jq--1"
      },
      "execution_count": 48,
      "outputs": []
    },
    {
      "cell_type": "code",
      "source": [
        "import pandas as pd\n",
        "from sklearn.model_selection import train_test_split\n",
        "from sklearn.metrics import accuracy_score\n",
        "# 원본 데이터를 재로딩 , 데이터 가공 , 학습 데이터 / 테스트 데이터 분할.\n",
        "titanic_df = pd.read_csv('sample_data/train.csv')\n",
        "y_titanic_df = titanic_df ['Survived']\n",
        "X_titanic_df= titanic_df.drop('Survived', axis=1)\n",
        "X_titanic_df = transform_features(X_titanic_df)\n",
        "X_train, X_test, y_train, y_test=train_test_split(X_titanic_df, y_titanic_df,\n",
        "                                                  test_size=0.2, random_state=0)\n",
        "# 위에서 생성한 Dummy Classifier를 이용해 학습 / 예측 / 평가 수행.\n",
        "\n",
        "myclf = MyDummyClassifier()\n",
        "myclf.fit(X_train, y_train)\n",
        "mypredictions = myclf.predict(X_test)\n",
        "print('Dummy Classifier 의 정확도: {0:.4f}'.format(accuracy_score(y_test, mypredictions)))"
      ],
      "metadata": {
        "colab": {
          "base_uri": "https://localhost:8080/"
        },
        "id": "eHgxFfRMqZ1Z",
        "outputId": "38adaed0-46bf-4c45-cc1f-3bf39dccb5f9"
      },
      "execution_count": 49,
      "outputs": [
        {
          "output_type": "stream",
          "name": "stdout",
          "text": [
            "Dummy Classifier 의 정확도: 0.7877\n"
          ]
        }
      ]
    },
    {
      "cell_type": "code",
      "source": [
        "from sklearn.datasets import load_digits\n",
        "from sklearn.model_selection import train_test_split\n",
        "from sklearn.base import BaseEstimator\n",
        "from sklearn.metrics import accuracy_score\n",
        "import numpy as np\n",
        "import pandas as pd\n",
        "class MyFakeClassifier(BaseEstimator):\n",
        "  def fit(self, X, y):\n",
        "    pass\n",
        "  # 입력값으로 들어오는 X 데이터 세트의 크기만큼 모두 0 값으로 만들어서 반환\n",
        "  def predict(self, X):\n",
        "    return np.zeros( (len(X), 1), dtype=bool)\n",
        "# 사이킷런의 내장 데이터 세트인 load_digits( ) 를 이용해 MNIST 데이터 로딩\n",
        "digits = load_digits()\n",
        "# digits 번호가 7 번이면 True 이고 이를 astype(int)로 1 로 변환 , 7 번이 아니면 False 이고 0 으로 변환.\n",
        "y = (digits.target == 7).astype(int)\n",
        "X_train, X_test, y_train, y_test = train_test_split(digits.data, y, random_state=11)"
      ],
      "metadata": {
        "id": "OkBYTSrnOd3k"
      },
      "execution_count": 50,
      "outputs": []
    },
    {
      "cell_type": "code",
      "source": [
        "# 불균형한 레이블 데이터 분포도 확인.\n",
        "print('레이블 테스트 세트 크기 :', y_test.shape)\n",
        "print('테스트 세트 레이블 0 과 1 의 분포도 ')\n",
        "print(pd.Series(y_test).value_counts())\n",
        "# Dummy Classifier로 학습 / 예측 / 정확도 평가\n",
        "fakeclf = MyFakeClassifier()\n",
        "fakeclf.fit(X_train, y_train)\n",
        "fakepred = fakeclf.predict(X_test)\n",
        "print('모든 예측을 0 으로 하여도 정확도는 :{:.3f}'.format(accuracy_score(y_test, fakepred)))"
      ],
      "metadata": {
        "colab": {
          "base_uri": "https://localhost:8080/"
        },
        "id": "sfYqfolJOr-K",
        "outputId": "af72c018-b3c0-42e8-9e8f-b41c7ec898c5"
      },
      "execution_count": 59,
      "outputs": [
        {
          "output_type": "stream",
          "name": "stdout",
          "text": [
            "레이블 테스트 세트 크기 : (179,)\n",
            "테스트 세트 레이블 0 과 1 의 분포도 \n",
            "Survived\n",
            "0    118\n",
            "1     61\n",
            "Name: count, dtype: int64\n",
            "모든 예측을 0 으로 하여도 정확도는 :0.659\n"
          ]
        }
      ]
    },
    {
      "cell_type": "code",
      "source": [
        "from sklearn.metrics import confusion_matrix\n",
        "confusion_matrix(y_test, fakepred)"
      ],
      "metadata": {
        "colab": {
          "base_uri": "https://localhost:8080/"
        },
        "id": "i4ljCORAarFz",
        "outputId": "dcfcb7e8-e859-417f-9256-b65f86c47fa9"
      },
      "execution_count": 52,
      "outputs": [
        {
          "output_type": "execute_result",
          "data": {
            "text/plain": [
              "array([[405,   0],\n",
              "       [ 45,   0]])"
            ]
          },
          "metadata": {},
          "execution_count": 52
        }
      ]
    },
    {
      "cell_type": "code",
      "source": [
        "from sklearn.metrics import accuracy_score, precision_score, recall_score, confusion_matrix\n",
        "\n",
        "def get_clf_eval(y_test, pred):\n",
        "    confusion = confusion_matrix(y_test, pred)\n",
        "    accuracy = accuracy_score(y_test, pred)\n",
        "    precision = precision_score(y_test, pred)\n",
        "    recall = recall_score(y_test, pred)\n",
        "    print('오차 행렬')\n",
        "    print(confusion)\n",
        "    print('정확도 : {0:.4f}, 정밀도 : {1:.4f}, 재현율 : {2:.4f}'.format(accuracy, precision, recall))\n"
      ],
      "metadata": {
        "id": "NIcN5G_Ia4NH"
      },
      "execution_count": 53,
      "outputs": []
    },
    {
      "cell_type": "code",
      "source": [
        "import pandas as pd\n",
        "from sklearn.model_selection import train_test_split\n",
        "from sklearn.linear_model import LogisticRegression\n",
        "# 원본 데이터를 재로딩 , 데이터 가공 , 학습 데이터 / 테스트 데이터 분할.\n",
        "titanic_df = pd.read_csv('sample_data/train.csv')\n",
        "y_titanic_df = titanic_df['Survived']\n",
        "X_titanic_df= titanic_df.drop('Survived', axis=1)\n",
        "X_titanic_df = transform_features(X_titanic_df)\n",
        "X_train, X_test, y_train, y_test = train_test_split(X_titanic_df, y_titanic_df,\n",
        "                                                    test_size=0.20, random_state=11)\n",
        "lr_clf = LogisticRegression(solver='liblinear')\n",
        "lr_clf.fit(X_train, y_train)\n",
        "pred = lr_clf.predict(X_test)\n",
        "get_clf_eval(y_test, pred)"
      ],
      "metadata": {
        "colab": {
          "base_uri": "https://localhost:8080/"
        },
        "id": "pIIF1BmebdN2",
        "outputId": "a27d09ae-0bdf-4f04-eac7-4a2d2b79d34e"
      },
      "execution_count": 54,
      "outputs": [
        {
          "output_type": "stream",
          "name": "stdout",
          "text": [
            "오차 행렬\n",
            "[[108  10]\n",
            " [ 16  45]]\n",
            "정확도 : 0.8547, 정밀도 : 0.8182, 재현율 : 0.7377\n"
          ]
        }
      ]
    },
    {
      "cell_type": "code",
      "source": [
        "pred_proba = lr_clf.predict_proba(X_test)\n",
        "pred = lr_clf.predict(X_test)\n",
        "print('pred_proba() 결과 Shape : {0}'.format(pred_proba.shape))\n",
        "print('pred_proba array에서 앞 3 개만 샘플로 추출 \\n:', pred_proba[:3])\n",
        "# 예측 확률 array 와 예측 결값 array 를 병합 (concatenate)해 예측 확률과 결괏값을 한눈에 확인\n",
        "pred_proba_result = np.concatenate([pred_proba, pred.reshape(-1, 1)], axis=1)\n",
        "print('두 개의 class 중에서 더 큰 확률을 클래스 값으로 예측\\n', pred_proba_result[:3])"
      ],
      "metadata": {
        "colab": {
          "base_uri": "https://localhost:8080/"
        },
        "id": "CbrLZ_VZ6J6j",
        "outputId": "2c7bf870-1cad-428e-a58b-1f08bec71a50"
      },
      "execution_count": 55,
      "outputs": [
        {
          "output_type": "stream",
          "name": "stdout",
          "text": [
            "pred_proba() 결과 Shape : (179, 2)\n",
            "pred_proba array에서 앞 3 개만 샘플로 추출 \n",
            ": [[0.45977739 0.54022261]\n",
            " [0.86676158 0.13323842]\n",
            " [0.84922154 0.15077846]]\n",
            "두 개의 class 중에서 더 큰 확률을 클래스 값으로 예측\n",
            " [[0.45977739 0.54022261 1.        ]\n",
            " [0.86676158 0.13323842 0.        ]\n",
            " [0.84922154 0.15077846 0.        ]]\n"
          ]
        }
      ]
    },
    {
      "cell_type": "code",
      "source": [
        "from sklearn.preprocessing import Binarizer\n",
        "X = [[ 1, -1, 2],[2, 0, 0], [0,1.1, 1.2]]\n",
        "#X 의 개별 원소들이 threshold 값보다 같거나 작으면 0 을 , 크면 1 을 반환\n",
        "binarizer = Binarizer(threshold=1.1)\n",
        "print(binarizer.fit_transform(X))"
      ],
      "metadata": {
        "colab": {
          "base_uri": "https://localhost:8080/"
        },
        "id": "Re8GWkU77HLu",
        "outputId": "b15827f2-d106-4712-913b-9d24225ed03e"
      },
      "execution_count": 56,
      "outputs": [
        {
          "output_type": "stream",
          "name": "stdout",
          "text": [
            "[[0. 0. 1.]\n",
            " [1. 0. 0.]\n",
            " [0. 0. 1.]]\n"
          ]
        }
      ]
    },
    {
      "cell_type": "code",
      "source": [
        "from sklearn.preprocessing import Binarizer\n",
        "# Binarizer 의 threshold 설정값. 분류 결정 임곗값임.\n",
        "custom_threshold = 0.5\n",
        "# predict_proba() 반환값의 두 번째 칼럼 , 즉 Positive 클래스 칼럼 하나만 추출해 Binarizer를 적용\n",
        "pred_proba_1 = pred_proba[:, 1].reshape(-1, 1)\n",
        "binarizer = Binarizer (threshold=custom_threshold).fit(pred_proba_1)\n",
        "custom_predict = binarizer.transform(pred_proba_1)\n",
        "get_clf_eval(y_test, custom_predict)"
      ],
      "metadata": {
        "colab": {
          "base_uri": "https://localhost:8080/"
        },
        "id": "IcHqkyWm7iwQ",
        "outputId": "3b45587c-d445-4ac7-a58a-4cc858365c46"
      },
      "execution_count": 57,
      "outputs": [
        {
          "output_type": "stream",
          "name": "stdout",
          "text": [
            "오차 행렬\n",
            "[[108  10]\n",
            " [ 16  45]]\n",
            "정확도 : 0.8547, 정밀도 : 0.8182, 재현율 : 0.7377\n"
          ]
        }
      ]
    },
    {
      "cell_type": "code",
      "source": [
        "# Binarizer의 threshold 설정값을 0.4로 설정. 즉 분류 결정 임곗값을 0.5 에서 0.4 로 낮춤\n",
        "custom_threshold = 0.4\n",
        "pred_proba_1 = pred_proba[:, 1] .reshape(-1, 1)\n",
        "binarizer = Binarizer (threshold=custom_threshold).fit(pred_proba_1)\n",
        "custom_predict = binarizer.transform(pred_proba_1)\n",
        "get_clf_eval(y_test, custom_predict)"
      ],
      "metadata": {
        "colab": {
          "base_uri": "https://localhost:8080/"
        },
        "id": "2a3hnCvv7tqk",
        "outputId": "59b396b7-9afe-4770-89aa-8ffb94d0212a"
      },
      "execution_count": 58,
      "outputs": [
        {
          "output_type": "stream",
          "name": "stdout",
          "text": [
            "오차 행렬\n",
            "[[96 22]\n",
            " [11 50]]\n",
            "정확도 : 0.8156, 정밀도 : 0.6944, 재현율 : 0.8197\n"
          ]
        }
      ]
    }
  ]
}